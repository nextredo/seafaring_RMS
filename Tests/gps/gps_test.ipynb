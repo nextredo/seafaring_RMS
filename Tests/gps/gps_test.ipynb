{
 "cells": [
  {
   "attachments": {},
   "cell_type": "markdown",
   "metadata": {},
   "source": [
    "# GPS Tester\n",
    "\n",
    "- Modified version of [this notebook](./example/gps_serial.ipynb)\n",
    "\n",
    "## Data Collection from GPS Module\n",
    "---"
   ]
  },
  {
   "attachments": {},
   "cell_type": "markdown",
   "metadata": {},
   "source": [
    "#### Data Acquisition (Acquire and save GPS NMEA Data)\n",
    "\n",
    "##### Finding your device in `/dev`\n",
    "- `ls /dev | grep -e usb -i`\n",
    "  - Lists all devices with `usb` (case insensitive) in their name\n",
    "- `sudo dmesg`\n",
    "  - Lists events from the kernel (incl. USB events)\n",
    "  - Try running the command, unplugging the device, running it again and seeing the most recent log\n",
    "  - Can try plugging it back in to get the name of the `/dev` folder that represents the device\n",
    "\n",
    "##### Ensuring you have necessary permissions to communicate with the serial device\n",
    "- You will likely need to run the following script as root to get it working\n",
    "- Or better yet, you can run `sudo adduser <your_username> dialout`\n",
    "  - Adds your user to the group for the USB TTY devices\n",
    "  - Allows access\n",
    "  - Restart computer after doing so (logging out and back in doesn't work)"
   ]
  },
  {
   "cell_type": "code",
   "execution_count": null,
   "metadata": {},
   "outputs": [],
   "source": [
    "import serial\n",
    "import datetime\n",
    "import time\n",
    "import os\n",
    "import getpass\n",
    "\n",
    "# Globals for data acquisition\n",
    "# Port the GPS module is on\n",
    "gps_port = \"/dev/ttyUSB0\"\n",
    "sentences_per_file = 700\n",
    "\n",
    "# User check\n",
    "print(\"Running under user: \" + getpass.getuser())\n",
    "print(\"Make sure correct IO permissions are enabled for this user\")\n",
    "\n",
    "# ser = serial.Serial(\"/dev/ttyUSB0\", baudrate=9600)\n",
    "ser = serial.Serial(port=gps_port, baudrate=9600)\n",
    "ser.flushInput()\n",
    "ser.flushOutput()\n",
    "idx = 0\n",
    "\n",
    "nmea_data = b\"\"\n",
    "\n",
    "# skip first line, since it could be incomplete\n",
    "ser.readline()\n",
    "\n",
    "while True:\n",
    "    idx += 1\n",
    "    nmea_sentence = ser.readline()\n",
    "    nmea_data += nmea_sentence\n",
    "\n",
    "    if idx % 100 == 0:\n",
    "        print(f\"idx: {idx}/{sentences_per_file}\")\n",
    "\n",
    "    # save to file after <number> sentences added\n",
    "    if idx % sentences_per_file == 0:\n",
    "        print(\"Exporting\")\n",
    "        filename = datetime.datetime.utcnow().strftime(\"data/gps_data_%Y%m%d-%H%M%S.nmea\")\n",
    "        f = open(filename, \"ab\")\n",
    "        f.write(nmea_data)\n",
    "        f.close()\n",
    "        print(f\"Exported as ./{filename}\")\n",
    "\n",
    "        nmea_data = b\"\""
   ]
  },
  {
   "attachments": {},
   "cell_type": "markdown",
   "metadata": {},
   "source": [
    "#### Listen for `$GPGSV` Messages"
   ]
  },
  {
   "cell_type": "code",
   "execution_count": null,
   "metadata": {},
   "outputs": [],
   "source": [
    "import serial\n",
    "import re\n",
    "\n",
    "ser = serial.Serial(port=gps_port, baudrate=9600)\n",
    "ser.flushInput()\n",
    "ser.flushOutput()\n",
    "\n",
    "# skip first line, since it could be incomplete\n",
    "ser.readline()\n",
    "\n",
    "while True:\n",
    "    nmea_sentence = ser.readline()\n",
    "    nmea_sentence_dec = nmea_sentence.decode(\"utf-8\")\n",
    "    # print(nmea_sentence_dec)\n",
    "\n",
    "    if re.findall(pattern=\"[$]GPGSV\", string=nmea_sentence_dec):\n",
    "        print(nmea_sentence_dec, end=\"\")"
   ]
  },
  {
   "attachments": {},
   "cell_type": "markdown",
   "metadata": {},
   "source": [
    "## Data Analysis\n",
    "---\n",
    "### Choose Most Recent File For Analysis"
   ]
  },
  {
   "cell_type": "code",
   "execution_count": null,
   "metadata": {},
   "outputs": [],
   "source": [
    "# Globals for data analysis\n",
    "\n",
    "# File to open for analysis\n",
    "# Set to a relative filepath to specify a file\n",
    "gps_data_file = None\n",
    "# --------------------------------------------------------------------------------------------------\n",
    "\n",
    "\n",
    "# Credit to:\n",
    "# https://fabianlee.org/2021/11/11/python-find-the-most-recently-modified-file-matching-a-pattern/\n",
    "\n",
    "import datetime\n",
    "import os\n",
    "import glob\n",
    "\n",
    "# Get most recent .nmea file in GPS data folder and set that as the file we'll use\n",
    "# Provided no file was given in cell above\n",
    "if not gps_data_file:\n",
    "    # Get list of files that matches pattern\n",
    "    pattern = r\"./data/gps_data_[0-9]*-[0-9]*[.]nmea\"\n",
    "    print(pattern)\n",
    "    files = list(filter(os.path.isfile, glob.glob(pattern)))\n",
    "\n",
    "    # Sort by modified time\n",
    "    files.sort(key=lambda x: os.path.getmtime(x))\n",
    "\n",
    "    # Get last item in list\n",
    "    gps_data_file = files[-1]\n",
    "\n",
    "    # Print info\n",
    "    now_str = datetime.datetime.utcnow().strftime(\"%Y%m%d-%H%M%S.nmea\")\n",
    "    print( \"Current datetime as file suffix:                 \" + now_str)\n",
    "    print(f\"Most recent GPS data file avail: {gps_data_file}\")\n",
    "\n",
    "else:\n",
    "    print(f\"User specified file: {gps_data_file}\")"
   ]
  },
  {
   "attachments": {},
   "cell_type": "markdown",
   "metadata": {},
   "source": [
    "#### Decode Given `.nmea` File"
   ]
  },
  {
   "cell_type": "code",
   "execution_count": null,
   "metadata": {},
   "outputs": [],
   "source": [
    "import pynmea2\n",
    "import os\n",
    "\n",
    "decoded_file_str, _ = os.path.splitext(gps_data_file)\n",
    "decoded_file_str += \".txt\"\n",
    "\n",
    "# Lookup table for what messages mean (only includes standard NMEA msgs)\n",
    "# Obtained from NEO-6M datasheet\n",
    "# https://content.u-blox.com/sites/default/files/products/documents/u-blox6_ReceiverDescrProtSpec_%28GPS.G6-SW-10018%29_Public.pdf\n",
    "# key = sentence formatter\n",
    "# value = sentence meaning (human readable)\n",
    "sentence_type_lookup = {\n",
    "    \"DTM\": \"Datum Reference\",\n",
    "    \"GBS\": \"GNSS Satellite Fault Detection\",\n",
    "    \"GGA\": \"Global positioning system fix data\",\n",
    "    \"GLL\": \"Latitude and longitude, with time of position fix and status\",\n",
    "    \"GPQ\": \"Poll message\",\n",
    "    \"GRS\": \"GNSS Range Residuals\",\n",
    "    \"GSA\": \"GNSS DOP and Active Satellites\",\n",
    "    \"GST\": \"GNSS Pseudo Range Error Statistics\",\n",
    "    \"GSV\": \"GNSS Satellites in View\",\n",
    "    \"RMC\": \"Recommended Minimum data\",\n",
    "    \"THS\": \"True Heading and Status\",\n",
    "    \"TXT\": \"Text Transmission\",\n",
    "    \"VTG\": \"Course over ground and Ground speed\",\n",
    "    \"ZDA\": \"Time and Date\",\n",
    "}\n",
    "\n",
    "print(f\"Reading file {gps_data_file}\\n\")\n",
    "\n",
    "with open(decoded_file_str, \"w\") as out_file:\n",
    "    nmea_data = open(gps_data_file, \"rb\")\n",
    "    for message_bytes in nmea_data.readlines()[:]: # read all messages\n",
    "        try:\n",
    "            message = message_bytes.decode(\"utf-8\").replace(\"\\n\", \"\").replace(\"\\r\", \"\")\n",
    "            parsed_message = pynmea2.parse(message)\n",
    "        except:\n",
    "            # skip invalid messages\n",
    "            continue\n",
    "            \n",
    "        print(f\"message: {message}:\", file=out_file)\n",
    "        print(f\"message meaning: {sentence_type_lookup[parsed_message.sentence_type]}\", file=out_file)\n",
    "\n",
    "        for field in parsed_message.fields:\n",
    "            value = getattr(parsed_message, field[1])\n",
    "            print(f\"{field[0]:40} {field[1]:20} {value}\", file=out_file)\n",
    "        \n",
    "        print(\"\\n\", file=out_file)\n",
    "\n",
    "nmea_data.close()\n",
    "print(f\"Save to {decoded_file_str} completed\")"
   ]
  },
  {
   "attachments": {},
   "cell_type": "markdown",
   "metadata": {},
   "source": [
    "#### Data Extraction from Parsed Messages"
   ]
  },
  {
   "cell_type": "code",
   "execution_count": null,
   "metadata": {},
   "outputs": [],
   "source": [
    "import pynmea2\n",
    "\n",
    "nmea_data = open(gps_data_file, \"rb\")\n",
    "\n",
    "coordinates_data = []\n",
    "\n",
    "for message_bytes in nmea_data.readlines():    \n",
    "    try:\n",
    "        message = message_bytes.decode(\"utf-8\").replace(\"\\n\", \"\").replace(\"\\r\", \"\")\n",
    "        parsed_message = pynmea2.parse(message)\n",
    "    except:\n",
    "        # skip invalid sentences\n",
    "        continue\n",
    "\n",
    "    cga_data = {}\n",
    "    \n",
    "    # process only GGA messages\n",
    "    if parsed_message.sentence_type == \"GGA\":\n",
    "        for attr in [\"timestamp\", \"latitude\", \"longitude\", \"latitude\", \"horizontal_dil\", \"num_sats\", \"gps_qual\"]:\n",
    "            cga_data[attr] = getattr(parsed_message, attr)\n",
    "        coordinates_data.append(cga_data)\n",
    "        \n",
    "coordinates_data[0]"
   ]
  },
  {
   "attachments": {},
   "cell_type": "markdown",
   "metadata": {},
   "source": [
    "#### Pandas Geo Dataframe"
   ]
  },
  {
   "cell_type": "code",
   "execution_count": null,
   "metadata": {},
   "outputs": [],
   "source": [
    "import pandas as pd\n",
    "import geopandas as gpd\n",
    "\n",
    "whole_frame = True\n",
    "\n",
    "df = pd.DataFrame(coordinates_data)\n",
    "gdf = gpd.GeoDataFrame(df, geometry=gpd.points_from_xy(df.longitude, df.latitude, crs=\"EPSG:4326\"))\n",
    "\n",
    "if whole_frame:\n",
    "    with pd.option_context('display.max_rows', None, 'display.max_columns', None, 'display.precision', 3):\n",
    "        display(gdf)\n",
    "else:\n",
    "    display(gdf)"
   ]
  },
  {
   "attachments": {},
   "cell_type": "markdown",
   "metadata": {},
   "source": [
    "#### Render Map of GPS Data"
   ]
  },
  {
   "cell_type": "code",
   "execution_count": null,
   "metadata": {},
   "outputs": [],
   "source": [
    "import matplotlib.pyplot as plt\n",
    "import contextily as ctx\n",
    "\n",
    "fig = plt.figure(figsize=(10,10))\n",
    "ax = plt.axes()\n",
    "gdf[gdf.gps_qual > 0].plot(ax=ax, alpha=.2, edgecolor=\"#ffff\", color='red')\n",
    "ctx.add_basemap(ax, source=ctx.providers.Stamen.TonerLite, crs=\"EPSG:4326\", alpha=.3)"
   ]
  }
 ],
 "metadata": {
  "kernelspec": {
   "display_name": "gps",
   "language": "python",
   "name": "python3"
  },
  "language_info": {
   "codemirror_mode": {
    "name": "ipython",
    "version": 3
   },
   "file_extension": ".py",
   "mimetype": "text/x-python",
   "name": "python",
   "nbconvert_exporter": "python",
   "pygments_lexer": "ipython3",
   "version": "3.11.2"
  },
  "orig_nbformat": 4,
  "vscode": {
   "interpreter": {
    "hash": "d47ec37ce2f2b03710b418a393e198703298cb16e64417996eb45a53794a7587"
   }
  }
 },
 "nbformat": 4,
 "nbformat_minor": 2
}

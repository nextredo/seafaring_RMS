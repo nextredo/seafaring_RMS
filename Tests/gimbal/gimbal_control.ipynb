{
 "cells": [
  {
   "attachments": {},
   "cell_type": "markdown",
   "metadata": {},
   "source": [
    "# Gimbal Control Testing\n",
    "- This notebook provides a series of scripts to control the gimbal\n",
    "\n",
    "## Serial Communication Heads-up\n",
    "- This notebook uses `pyserial` to communicate with the gimbal through USB and UART\n",
    "- The [gps test notebook](../gps/gps_test.ipynb) also uses `pyserial` on a Linux machine\n",
    "- For issues with:\n",
    "  - Finding the gimbal device pseudo-folder in `/dev`\n",
    "  - Getting permissions to access it\n",
    "- See the gps notebook's [data acquisition subsection](../gps/gps_test.ipynb) to fix serial comms issues\n",
    "---"
   ]
  },
  {
   "attachments": {},
   "cell_type": "markdown",
   "metadata": {},
   "source": [
    "#### Gimbal Connection and Setup"
   ]
  },
  {
   "cell_type": "code",
   "execution_count": 1,
   "metadata": {},
   "outputs": [
    {
     "name": "stdout",
     "output_type": "stream",
     "text": [
      "ttyACM0\n"
     ]
    }
   ],
   "source": [
    "# Prints list of ports with \"acm\" in the name (case insensitive)\n",
    "!ls /dev | grep -ie \"acm\""
   ]
  },
  {
   "cell_type": "code",
   "execution_count": 2,
   "metadata": {},
   "outputs": [],
   "source": [
    "# Globals for data acquisition\n",
    "# Port the gimbal is on & baud rate\n",
    "gimbal_port = \"/dev/ttyACM0\"\n",
    "baud = 115200"
   ]
  },
  {
   "attachments": {},
   "cell_type": "markdown",
   "metadata": {},
   "source": [
    "#### Static Poses"
   ]
  },
  {
   "cell_type": "code",
   "execution_count": 3,
   "metadata": {},
   "outputs": [],
   "source": [
    "import time\n",
    "import stormfront.control as ctrl\n",
    "\n",
    "# Globals for static pose assumption\n",
    "# Angles in degrees\n",
    "pitch     = 0.0\n",
    "roll      = 0.0\n",
    "yaw       = 10.0"
   ]
  },
  {
   "cell_type": "code",
   "execution_count": 4,
   "metadata": {},
   "outputs": [
    {
     "name": "stdout",
     "output_type": "stream",
     "text": [
      "--------------------------\n",
      "CMD_SETANGLES\n",
      "Angle: 0.0 --> 0.0\n",
      "Angle: 0.0 --> 0.0\n",
      "Angle: 10.0 --> 10.0\n",
      "Start byte: 0xfa\n",
      "Payload len byte: 0x0e\n",
      "Cmd byte: 0x11\n",
      "Payload: 0x0000000000000000000020410000\n",
      "CRC: 0x3334\n",
      "-> 0xFA\u001b[31m0E\u001b[32m11\u001b[33m00\u001b[34m00\u001b[35m00\u001b[36m00\u001b[37m00\u001b[30m00\u001b[31m00\u001b[32m00\u001b[33m00\u001b[34m00\u001b[35m20\u001b[36m41\u001b[37m00\u001b[30m00\u001b[31m33\u001b[32m34\u001b[33m\u001b[0m\n",
      "------ sent ------\n",
      "\n",
      "---- receiving ----\n",
      "<-  0xFB\u001b[31m01\u001b[32m96\u001b[33m00\u001b[34m62\u001b[35m2E\u001b[36m\u001b[0m\n",
      "ACK_OK\n",
      "---- received ----\n",
      "\n"
     ]
    }
   ],
   "source": [
    "gimbal = ctrl.storm32(gimbal_port, baud, verbose=True)\n",
    "gimbal.set_angles(pitch, roll, yaw)\n",
    "# gimbal.set_yaw(yaw)\n",
    "gimbal.receive()"
   ]
  }
 ],
 "metadata": {
  "kernelspec": {
   "display_name": "gps",
   "language": "python",
   "name": "python3"
  },
  "language_info": {
   "codemirror_mode": {
    "name": "ipython",
    "version": 3
   },
   "file_extension": ".py",
   "mimetype": "text/x-python",
   "name": "python",
   "nbconvert_exporter": "python",
   "pygments_lexer": "ipython3",
   "version": "3.11.2"
  },
  "orig_nbformat": 4,
  "vscode": {
   "interpreter": {
    "hash": "d47ec37ce2f2b03710b418a393e198703298cb16e64417996eb45a53794a7587"
   }
  }
 },
 "nbformat": 4,
 "nbformat_minor": 2
}

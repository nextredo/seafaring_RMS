{
 "cells": [
  {
   "attachments": {},
   "cell_type": "markdown",
   "metadata": {},
   "source": [
    "# Gimbal Control Testing\n",
    "- This notebook provides a series of scripts to control the gimbal\n",
    "\n",
    "## Serial Communication Heads-up\n",
    "- This notebook uses `pyserial` to communicate with the gimbal through USB and UART\n",
    "- The [gps test notebook](../gps/gps_test.ipynb) also uses `pyserial` on a Linux machine\n",
    "- For issues with:\n",
    "  - Finding the gimbal device pseudo-folder in `/dev`\n",
    "  - Getting permissions to access it\n",
    "- See the gps notebook's [data acquisition subsection](../gps/gps_test.ipynb) to fix serial comms issues\n",
    "---"
   ]
  },
  {
   "attachments": {},
   "cell_type": "markdown",
   "metadata": {},
   "source": [
    "#### Gimbal Connection and Setup"
   ]
  },
  {
   "cell_type": "code",
   "execution_count": 1,
   "metadata": {},
   "outputs": [
    {
     "name": "stdout",
     "output_type": "stream",
     "text": [
      "ttyACM1\n"
     ]
    }
   ],
   "source": [
    "# Prints list of ports with \"acm\" in the name (case insensitive)\n",
    "!ls /dev | grep -ie \"acm\""
   ]
  },
  {
   "cell_type": "code",
   "execution_count": 2,
   "metadata": {},
   "outputs": [],
   "source": [
    "# Globals for data acquisition\n",
    "# Port the gimbal is on & baud rate\n",
    "gimbal_port = \"/dev/ttyACM1\"\n",
    "baud = 115200"
   ]
  },
  {
   "attachments": {},
   "cell_type": "markdown",
   "metadata": {},
   "source": [
    "#### Static Poses"
   ]
  },
  {
   "cell_type": "code",
   "execution_count": 21,
   "metadata": {},
   "outputs": [],
   "source": [
    "import time\n",
    "import stormfront.control as ctrl\n",
    "\n",
    "# Globals for static pose assumption\n",
    "# Angles in degrees\n",
    "pitch     = 0.0\n",
    "roll      = 0.0\n",
    "yaw       = 10.0"
   ]
  },
  {
   "cell_type": "code",
   "execution_count": 22,
   "metadata": {},
   "outputs": [
    {
     "name": "stdout",
     "output_type": "stream",
     "text": [
      "mapped angle:  0.0\n",
      "mapped angle:  0.0\n",
      "mapped angle:  10.0\n",
      "CMD_SETANGLES\n",
      "0.0, 0.0, 10.0 degrees\n",
      "-> FA0E1100000000000000000000204100003334\n",
      "<-  b'\\xfb\\x01\\x96\\x00b.' \t 0xFB019600622E\n"
     ]
    }
   ],
   "source": [
    "gimbal = ctrl.storm32(gimbal_port, baud, verbose=True)\n",
    "gimbal.set_angles(pitch, roll, yaw)\n",
    "# gimbal.set_yaw(yaw)\n",
    "\n",
    "# Run loop (for 5 sec) looking for responses from the board\n",
    "t_end = time.time() + 5\n",
    "while time.time() < t_end:\n",
    "    available = gimbal.ser.in_waiting\n",
    "    # time.sleep(0.1)\n",
    "    if available > 0:\n",
    "        c = gimbal.ser.read(available)\n",
    "        c_formatted = ctrl.storm32.format_cmd_string(c)\n",
    "        print(\"<- \", c, \"\\t\", c_formatted)\n",
    "        # print(\"<- \", c)\n"
   ]
  }
 ],
 "metadata": {
  "kernelspec": {
   "display_name": "gps",
   "language": "python",
   "name": "python3"
  },
  "language_info": {
   "codemirror_mode": {
    "name": "ipython",
    "version": 3
   },
   "file_extension": ".py",
   "mimetype": "text/x-python",
   "name": "python",
   "nbconvert_exporter": "python",
   "pygments_lexer": "ipython3",
   "version": "3.11.2"
  },
  "orig_nbformat": 4,
  "vscode": {
   "interpreter": {
    "hash": "d47ec37ce2f2b03710b418a393e198703298cb16e64417996eb45a53794a7587"
   }
  }
 },
 "nbformat": 4,
 "nbformat_minor": 2
}

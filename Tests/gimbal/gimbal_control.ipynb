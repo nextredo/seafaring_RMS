{
 "cells": [
  {
   "attachments": {},
   "cell_type": "markdown",
   "metadata": {},
   "source": [
    "# Gimbal Control Testing\n",
    "- This notebook provides a series of scripts to control the gimbal\n",
    "\n",
    "## Serial Communication Heads-up\n",
    "- This notebook uses `pyserial` to communicate with the gimbal through USB and UART\n",
    "- The [gps test notebook](../gps/gps_test.ipynb) also uses `pyserial` on a Linux machine\n",
    "  - See the gps notebook's [data acquisition subsection](../gps/gps_test.ipynb#Acquire-and-save-GPS-NMEA-Data) for helpful info on ensuring serial comms operate correctly\n",
    "\n",
    "---"
   ]
  },
  {
   "attachments": {},
   "cell_type": "markdown",
   "metadata": {},
   "source": [
    "#### Gimbal Connection and Setup"
   ]
  },
  {
   "cell_type": "code",
   "execution_count": null,
   "metadata": {},
   "outputs": [],
   "source": [
    "import time, os, sys, math\n",
    "import serial\n",
    "\n",
    "# https://stackoverflow.com/questions/4383571/importing-files-from-different-folder\n",
    "\n",
    "# import sys\n",
    "# # caution: path[0] is reserved for script path (or '' in REPL)\n",
    "# sys.path.insert(1, './py-library')\n",
    "# import STorM32_lib as gimbal\n",
    "\n",
    "# from py_lib.STorM32_lib import STorM32_lib\n",
    "\n",
    "from py_lib import STorM32_lib as STorm32\n",
    "\n",
    "# Globals for data acquisition\n",
    "# Port the gimbal is on & baud rate\n",
    "gimbal_port = \"/dev/ttyUSB0\"\n",
    "baud = 115200\n",
    "\n",
    "ser = serial.Serial(port=gimbal_port, baudrate=baud)\n"
   ]
  },
  {
   "attachments": {},
   "cell_type": "markdown",
   "metadata": {},
   "source": [
    "#### Static Pose\n",
    "\n",
    "- Sends command to gimbal to assume a pose"
   ]
  },
  {
   "cell_type": "code",
   "execution_count": null,
   "metadata": {},
   "outputs": [],
   "source": [
    "# Variables\n",
    "pitch     = 0.0\n",
    "roll      = 0.0\n",
    "yaw       = 0.0\n",
    "\n",
    "pitch_dir = 1.0\n",
    "roll_dir  = 1.0\n",
    "yaw_dir   = 1.0\n",
    "\n",
    "# Script entry\n",
    "# ------------------------------------------------------------------------------\n",
    "cmd = STorm32.cCMD_SETANGLES(ser, pitch, 0.0, yaw)\n",
    "cmd.send()\n",
    "\n",
    "print(\">- \", cmd.getCmd())\n",
    "\n",
    "# Run loop (for 10 sec) looking for responses from the board\n",
    "t_end = time.time() + 10\n",
    "while time.time() < t_end:\n",
    "    available = ser.in_waiting\n",
    "    if available > 0:\n",
    "        c = ser.read(available)\n",
    "        print(\"<- \", c)"
   ]
  }
 ],
 "metadata": {
  "language_info": {
   "name": "python"
  },
  "orig_nbformat": 4
 },
 "nbformat": 4,
 "nbformat_minor": 2
}

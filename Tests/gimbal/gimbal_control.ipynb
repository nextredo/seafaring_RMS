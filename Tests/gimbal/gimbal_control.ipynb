{
 "cells": [
  {
   "attachments": {},
   "cell_type": "markdown",
   "metadata": {},
   "source": [
    "# Gimbal Control Testing\n",
    "- This notebook provides a series of scripts to control the gimbal\n",
    "\n",
    "## Serial Communication Heads-up\n",
    "- This notebook uses `pyserial` to communicate with the gimbal through USB and UART\n",
    "- The [gps test notebook](../gps/gps_test.ipynb) also uses `pyserial` on a Linux machine\n",
    "- For issues with:\n",
    "  - Finding the gimbal device pseudo-folder in `/dev`\n",
    "  - Getting permissions to access it\n",
    "- See the gps notebook's [data acquisition subsection](../gps/gps_test.ipynb) to fix serial comms issues\n",
    "---"
   ]
  },
  {
   "attachments": {},
   "cell_type": "markdown",
   "metadata": {},
   "source": [
    "#### Gimbal Connection and Setup"
   ]
  },
  {
   "cell_type": "code",
   "execution_count": 1,
   "metadata": {},
   "outputs": [],
   "source": [
    "import time, os, sys, math\n",
    "import serial\n",
    "\n",
    "# Globals for data acquisition\n",
    "# Port the gimbal is on & baud rate\n",
    "gimbal_port = \"/dev/ttyACM0\"\n",
    "baud = 115200\n",
    "\n",
    "ser = serial.Serial(port=gimbal_port, baudrate=baud)"
   ]
  },
  {
   "attachments": {},
   "cell_type": "markdown",
   "metadata": {},
   "source": [
    "#### Static Poses"
   ]
  },
  {
   "cell_type": "code",
   "execution_count": 2,
   "metadata": {},
   "outputs": [],
   "source": [
    "# https://stackoverflow.com/questions/4383571/importing-files-from-different-folder\n",
    "import <relevant library>\n",
    "\n",
    "# Globals for static pose assumption\n",
    "# Angles in degrees\n",
    "pitch     = 0.0\n",
    "roll      = 0.0\n",
    "yaw       = 0.0\n",
    "\n",
    "pitch_dir = 1.0\n",
    "roll_dir  = 1.0\n",
    "yaw_dir   = 1.0"
   ]
  }
 ],
 "metadata": {
  "kernelspec": {
   "display_name": "gps",
   "language": "python",
   "name": "python3"
  },
  "language_info": {
   "codemirror_mode": {
    "name": "ipython",
    "version": 3
   },
   "file_extension": ".py",
   "mimetype": "text/x-python",
   "name": "python",
   "nbconvert_exporter": "python",
   "pygments_lexer": "ipython3",
   "version": "3.11.2"
  },
  "orig_nbformat": 4,
  "vscode": {
   "interpreter": {
    "hash": "d47ec37ce2f2b03710b418a393e198703298cb16e64417996eb45a53794a7587"
   }
  }
 },
 "nbformat": 4,
 "nbformat_minor": 2
}
